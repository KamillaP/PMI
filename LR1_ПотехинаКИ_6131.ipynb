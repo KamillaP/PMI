{
  "cells": [
    {
      "cell_type": "markdown",
      "metadata": {
        "id": "view-in-github",
        "colab_type": "text"
      },
      "source": [
        "<a href=\"https://colab.research.google.com/github/KamillaP/PMI/blob/main/LR1_%D0%9F%D0%BE%D1%82%D0%B5%D1%85%D0%B8%D0%BD%D0%B0%D0%9A%D0%98_6131.ipynb\" target=\"_parent\"><img src=\"https://colab.research.google.com/assets/colab-badge.svg\" alt=\"Open In Colab\"/></a>"
      ]
    },
    {
      "cell_type": "code",
      "execution_count": 45,
      "metadata": {
        "id": "X8etZBHXYeI4"
      },
      "outputs": [],
      "source": [
        "import numpy as np\n",
        "import os"
      ]
    },
    {
      "cell_type": "code",
      "execution_count": 46,
      "metadata": {
        "id": "M-JmD37NYeJA"
      },
      "outputs": [],
      "source": [
        "def load_data(folder):\n",
        "    x_train = np.load(os.path.join(folder, 'x_train.npy'))\n",
        "    y_train = np.load(os.path.join(folder, 'y_train.npy'))\n",
        "    x_test = np.load(os.path.join(folder, 'x_test.npy'))\n",
        "    y_test = np.load(os.path.join(folder, 'y_test.npy'))\n",
        "    return x_train, y_train, x_test, y_test"
      ]
    },
    {
      "cell_type": "code",
      "execution_count": 47,
      "metadata": {
        "id": "hUv7Uzv2YeJC"
      },
      "outputs": [],
      "source": [
        "def sigmoid(x):\n",
        "    return 1 / (1 + np.exp(-x))\n",
        "\n",
        "\n",
        "class LogisticRegression:\n",
        "    def __init__(self, dim=2):\n",
        "        rng = np.random.default_rng(seed=0)\n",
        "        self.w = rng.normal(size=(dim, 1)) / np.sqrt(dim)\n",
        "        self.b = np.zeros((1,))\n",
        "\n",
        "    def predict(self, x, probs=False):\n",
        "        # x - np.array размерности [N, dim]\n",
        "        #     Массив входных признаков.\n",
        "        assert x.shape[1] == self.w.shape[0], \\\n",
        "            \"Размерность экземпляров данных не соответствует ожидаемой: \" + \\\n",
        "            f\"ожидалось x.shape[1]={self.w.shape[0]}, но было получено x.shape[1]={x.shape[1]}\"\n",
        "\n",
        "        x = x.dot(self.w) + self.b  # logits\n",
        "        p = sigmoid(x)  # probabilities\n",
        "        if probs:\n",
        "            return p\n",
        "        return np.array(p > 0.5).astype('int32')\n",
        "\n",
        "    def fit(self, x, y, iters=1000, lr=0.01):\n",
        "        # x - np.array размерности [N, dim]\n",
        "        #     Массив входных признаков.\n",
        "        # y - np.array размернсоти [N]\n",
        "        #     Массив меток (правильных ответов).\n",
        "        assert len(x) == len(y), \\\n",
        "            \"Количество экземпляров в массиве X не равно количеству меток в массиве Y. \" + \\\n",
        "            f\"Полученные размеры: len(X) = {len(x)}, len(Y) = {len(y)}.\"\n",
        "        assert x.shape[1] == self.w.shape[0], \\\n",
        "            \"Размерность экземпляров данных не соответствует ожидаемой: \" + \\\n",
        "            f\"ожидалось x.shape[1]={self.w.shape[0]}, но было получено x.shape[1]={x.shape[1]}\"\n",
        "        # Алгоритм градиентного спуска.\n",
        "        # Минимизируется бинарная кросс-энтропия.\n",
        "        y = y.reshape(-1, 1)\n",
        "        for i in range(iters):\n",
        "            preds = self.predict(x, probs=True)\n",
        "            self.w -= lr * np.mean(x.T.dot(preds - y), axis=1, keepdims=True)\n",
        "            self.b -= lr * np.mean(preds - y, axis=0)\n",
        "        return self"
      ]
    },
    {
      "cell_type": "markdown",
      "metadata": {
        "id": "jdJFX-FVYeJE"
      },
      "source": [
        "## 1. Применение логистической регрессии (несбалансированные данные)"
      ]
    },
    {
      "cell_type": "markdown",
      "metadata": {
        "id": "sum0dxpfYeJJ"
      },
      "source": [
        "### 1.1 Создание и обучение логистической регрессии"
      ]
    },
    {
      "cell_type": "code",
      "execution_count": 48,
      "metadata": {
        "id": "8JVkFBIqYeJK"
      },
      "outputs": [],
      "source": [
        "# Указание: производить нормализацию данных не нужно, это часть задания.\n",
        "x_train, y_train, x_test, y_test = load_data('dataset1')"
      ]
    },
    {
      "cell_type": "code",
      "execution_count": 49,
      "metadata": {
        "id": "VYGzu_YJYeJL",
        "colab": {
          "base_uri": "https://localhost:8080/",
          "height": 80
        },
        "outputId": "4015c712-5559-4301-a80c-c7aa992e8eea"
      },
      "outputs": [
        {
          "output_type": "execute_result",
          "data": {
            "text/plain": [
              "RandomForestClassifier(random_state=42)"
            ],
            "text/html": [
              "<style>#sk-container-id-2 {\n",
              "  /* Definition of color scheme common for light and dark mode */\n",
              "  --sklearn-color-text: black;\n",
              "  --sklearn-color-line: gray;\n",
              "  /* Definition of color scheme for unfitted estimators */\n",
              "  --sklearn-color-unfitted-level-0: #fff5e6;\n",
              "  --sklearn-color-unfitted-level-1: #f6e4d2;\n",
              "  --sklearn-color-unfitted-level-2: #ffe0b3;\n",
              "  --sklearn-color-unfitted-level-3: chocolate;\n",
              "  /* Definition of color scheme for fitted estimators */\n",
              "  --sklearn-color-fitted-level-0: #f0f8ff;\n",
              "  --sklearn-color-fitted-level-1: #d4ebff;\n",
              "  --sklearn-color-fitted-level-2: #b3dbfd;\n",
              "  --sklearn-color-fitted-level-3: cornflowerblue;\n",
              "\n",
              "  /* Specific color for light theme */\n",
              "  --sklearn-color-text-on-default-background: var(--sg-text-color, var(--theme-code-foreground, var(--jp-content-font-color1, black)));\n",
              "  --sklearn-color-background: var(--sg-background-color, var(--theme-background, var(--jp-layout-color0, white)));\n",
              "  --sklearn-color-border-box: var(--sg-text-color, var(--theme-code-foreground, var(--jp-content-font-color1, black)));\n",
              "  --sklearn-color-icon: #696969;\n",
              "\n",
              "  @media (prefers-color-scheme: dark) {\n",
              "    /* Redefinition of color scheme for dark theme */\n",
              "    --sklearn-color-text-on-default-background: var(--sg-text-color, var(--theme-code-foreground, var(--jp-content-font-color1, white)));\n",
              "    --sklearn-color-background: var(--sg-background-color, var(--theme-background, var(--jp-layout-color0, #111)));\n",
              "    --sklearn-color-border-box: var(--sg-text-color, var(--theme-code-foreground, var(--jp-content-font-color1, white)));\n",
              "    --sklearn-color-icon: #878787;\n",
              "  }\n",
              "}\n",
              "\n",
              "#sk-container-id-2 {\n",
              "  color: var(--sklearn-color-text);\n",
              "}\n",
              "\n",
              "#sk-container-id-2 pre {\n",
              "  padding: 0;\n",
              "}\n",
              "\n",
              "#sk-container-id-2 input.sk-hidden--visually {\n",
              "  border: 0;\n",
              "  clip: rect(1px 1px 1px 1px);\n",
              "  clip: rect(1px, 1px, 1px, 1px);\n",
              "  height: 1px;\n",
              "  margin: -1px;\n",
              "  overflow: hidden;\n",
              "  padding: 0;\n",
              "  position: absolute;\n",
              "  width: 1px;\n",
              "}\n",
              "\n",
              "#sk-container-id-2 div.sk-dashed-wrapped {\n",
              "  border: 1px dashed var(--sklearn-color-line);\n",
              "  margin: 0 0.4em 0.5em 0.4em;\n",
              "  box-sizing: border-box;\n",
              "  padding-bottom: 0.4em;\n",
              "  background-color: var(--sklearn-color-background);\n",
              "}\n",
              "\n",
              "#sk-container-id-2 div.sk-container {\n",
              "  /* jupyter's `normalize.less` sets `[hidden] { display: none; }`\n",
              "     but bootstrap.min.css set `[hidden] { display: none !important; }`\n",
              "     so we also need the `!important` here to be able to override the\n",
              "     default hidden behavior on the sphinx rendered scikit-learn.org.\n",
              "     See: https://github.com/scikit-learn/scikit-learn/issues/21755 */\n",
              "  display: inline-block !important;\n",
              "  position: relative;\n",
              "}\n",
              "\n",
              "#sk-container-id-2 div.sk-text-repr-fallback {\n",
              "  display: none;\n",
              "}\n",
              "\n",
              "div.sk-parallel-item,\n",
              "div.sk-serial,\n",
              "div.sk-item {\n",
              "  /* draw centered vertical line to link estimators */\n",
              "  background-image: linear-gradient(var(--sklearn-color-text-on-default-background), var(--sklearn-color-text-on-default-background));\n",
              "  background-size: 2px 100%;\n",
              "  background-repeat: no-repeat;\n",
              "  background-position: center center;\n",
              "}\n",
              "\n",
              "/* Parallel-specific style estimator block */\n",
              "\n",
              "#sk-container-id-2 div.sk-parallel-item::after {\n",
              "  content: \"\";\n",
              "  width: 100%;\n",
              "  border-bottom: 2px solid var(--sklearn-color-text-on-default-background);\n",
              "  flex-grow: 1;\n",
              "}\n",
              "\n",
              "#sk-container-id-2 div.sk-parallel {\n",
              "  display: flex;\n",
              "  align-items: stretch;\n",
              "  justify-content: center;\n",
              "  background-color: var(--sklearn-color-background);\n",
              "  position: relative;\n",
              "}\n",
              "\n",
              "#sk-container-id-2 div.sk-parallel-item {\n",
              "  display: flex;\n",
              "  flex-direction: column;\n",
              "}\n",
              "\n",
              "#sk-container-id-2 div.sk-parallel-item:first-child::after {\n",
              "  align-self: flex-end;\n",
              "  width: 50%;\n",
              "}\n",
              "\n",
              "#sk-container-id-2 div.sk-parallel-item:last-child::after {\n",
              "  align-self: flex-start;\n",
              "  width: 50%;\n",
              "}\n",
              "\n",
              "#sk-container-id-2 div.sk-parallel-item:only-child::after {\n",
              "  width: 0;\n",
              "}\n",
              "\n",
              "/* Serial-specific style estimator block */\n",
              "\n",
              "#sk-container-id-2 div.sk-serial {\n",
              "  display: flex;\n",
              "  flex-direction: column;\n",
              "  align-items: center;\n",
              "  background-color: var(--sklearn-color-background);\n",
              "  padding-right: 1em;\n",
              "  padding-left: 1em;\n",
              "}\n",
              "\n",
              "\n",
              "/* Toggleable style: style used for estimator/Pipeline/ColumnTransformer box that is\n",
              "clickable and can be expanded/collapsed.\n",
              "- Pipeline and ColumnTransformer use this feature and define the default style\n",
              "- Estimators will overwrite some part of the style using the `sk-estimator` class\n",
              "*/\n",
              "\n",
              "/* Pipeline and ColumnTransformer style (default) */\n",
              "\n",
              "#sk-container-id-2 div.sk-toggleable {\n",
              "  /* Default theme specific background. It is overwritten whether we have a\n",
              "  specific estimator or a Pipeline/ColumnTransformer */\n",
              "  background-color: var(--sklearn-color-background);\n",
              "}\n",
              "\n",
              "/* Toggleable label */\n",
              "#sk-container-id-2 label.sk-toggleable__label {\n",
              "  cursor: pointer;\n",
              "  display: block;\n",
              "  width: 100%;\n",
              "  margin-bottom: 0;\n",
              "  padding: 0.5em;\n",
              "  box-sizing: border-box;\n",
              "  text-align: center;\n",
              "}\n",
              "\n",
              "#sk-container-id-2 label.sk-toggleable__label-arrow:before {\n",
              "  /* Arrow on the left of the label */\n",
              "  content: \"▸\";\n",
              "  float: left;\n",
              "  margin-right: 0.25em;\n",
              "  color: var(--sklearn-color-icon);\n",
              "}\n",
              "\n",
              "#sk-container-id-2 label.sk-toggleable__label-arrow:hover:before {\n",
              "  color: var(--sklearn-color-text);\n",
              "}\n",
              "\n",
              "/* Toggleable content - dropdown */\n",
              "\n",
              "#sk-container-id-2 div.sk-toggleable__content {\n",
              "  max-height: 0;\n",
              "  max-width: 0;\n",
              "  overflow: hidden;\n",
              "  text-align: left;\n",
              "  /* unfitted */\n",
              "  background-color: var(--sklearn-color-unfitted-level-0);\n",
              "}\n",
              "\n",
              "#sk-container-id-2 div.sk-toggleable__content.fitted {\n",
              "  /* fitted */\n",
              "  background-color: var(--sklearn-color-fitted-level-0);\n",
              "}\n",
              "\n",
              "#sk-container-id-2 div.sk-toggleable__content pre {\n",
              "  margin: 0.2em;\n",
              "  border-radius: 0.25em;\n",
              "  color: var(--sklearn-color-text);\n",
              "  /* unfitted */\n",
              "  background-color: var(--sklearn-color-unfitted-level-0);\n",
              "}\n",
              "\n",
              "#sk-container-id-2 div.sk-toggleable__content.fitted pre {\n",
              "  /* unfitted */\n",
              "  background-color: var(--sklearn-color-fitted-level-0);\n",
              "}\n",
              "\n",
              "#sk-container-id-2 input.sk-toggleable__control:checked~div.sk-toggleable__content {\n",
              "  /* Expand drop-down */\n",
              "  max-height: 200px;\n",
              "  max-width: 100%;\n",
              "  overflow: auto;\n",
              "}\n",
              "\n",
              "#sk-container-id-2 input.sk-toggleable__control:checked~label.sk-toggleable__label-arrow:before {\n",
              "  content: \"▾\";\n",
              "}\n",
              "\n",
              "/* Pipeline/ColumnTransformer-specific style */\n",
              "\n",
              "#sk-container-id-2 div.sk-label input.sk-toggleable__control:checked~label.sk-toggleable__label {\n",
              "  color: var(--sklearn-color-text);\n",
              "  background-color: var(--sklearn-color-unfitted-level-2);\n",
              "}\n",
              "\n",
              "#sk-container-id-2 div.sk-label.fitted input.sk-toggleable__control:checked~label.sk-toggleable__label {\n",
              "  background-color: var(--sklearn-color-fitted-level-2);\n",
              "}\n",
              "\n",
              "/* Estimator-specific style */\n",
              "\n",
              "/* Colorize estimator box */\n",
              "#sk-container-id-2 div.sk-estimator input.sk-toggleable__control:checked~label.sk-toggleable__label {\n",
              "  /* unfitted */\n",
              "  background-color: var(--sklearn-color-unfitted-level-2);\n",
              "}\n",
              "\n",
              "#sk-container-id-2 div.sk-estimator.fitted input.sk-toggleable__control:checked~label.sk-toggleable__label {\n",
              "  /* fitted */\n",
              "  background-color: var(--sklearn-color-fitted-level-2);\n",
              "}\n",
              "\n",
              "#sk-container-id-2 div.sk-label label.sk-toggleable__label,\n",
              "#sk-container-id-2 div.sk-label label {\n",
              "  /* The background is the default theme color */\n",
              "  color: var(--sklearn-color-text-on-default-background);\n",
              "}\n",
              "\n",
              "/* On hover, darken the color of the background */\n",
              "#sk-container-id-2 div.sk-label:hover label.sk-toggleable__label {\n",
              "  color: var(--sklearn-color-text);\n",
              "  background-color: var(--sklearn-color-unfitted-level-2);\n",
              "}\n",
              "\n",
              "/* Label box, darken color on hover, fitted */\n",
              "#sk-container-id-2 div.sk-label.fitted:hover label.sk-toggleable__label.fitted {\n",
              "  color: var(--sklearn-color-text);\n",
              "  background-color: var(--sklearn-color-fitted-level-2);\n",
              "}\n",
              "\n",
              "/* Estimator label */\n",
              "\n",
              "#sk-container-id-2 div.sk-label label {\n",
              "  font-family: monospace;\n",
              "  font-weight: bold;\n",
              "  display: inline-block;\n",
              "  line-height: 1.2em;\n",
              "}\n",
              "\n",
              "#sk-container-id-2 div.sk-label-container {\n",
              "  text-align: center;\n",
              "}\n",
              "\n",
              "/* Estimator-specific */\n",
              "#sk-container-id-2 div.sk-estimator {\n",
              "  font-family: monospace;\n",
              "  border: 1px dotted var(--sklearn-color-border-box);\n",
              "  border-radius: 0.25em;\n",
              "  box-sizing: border-box;\n",
              "  margin-bottom: 0.5em;\n",
              "  /* unfitted */\n",
              "  background-color: var(--sklearn-color-unfitted-level-0);\n",
              "}\n",
              "\n",
              "#sk-container-id-2 div.sk-estimator.fitted {\n",
              "  /* fitted */\n",
              "  background-color: var(--sklearn-color-fitted-level-0);\n",
              "}\n",
              "\n",
              "/* on hover */\n",
              "#sk-container-id-2 div.sk-estimator:hover {\n",
              "  /* unfitted */\n",
              "  background-color: var(--sklearn-color-unfitted-level-2);\n",
              "}\n",
              "\n",
              "#sk-container-id-2 div.sk-estimator.fitted:hover {\n",
              "  /* fitted */\n",
              "  background-color: var(--sklearn-color-fitted-level-2);\n",
              "}\n",
              "\n",
              "/* Specification for estimator info (e.g. \"i\" and \"?\") */\n",
              "\n",
              "/* Common style for \"i\" and \"?\" */\n",
              "\n",
              ".sk-estimator-doc-link,\n",
              "a:link.sk-estimator-doc-link,\n",
              "a:visited.sk-estimator-doc-link {\n",
              "  float: right;\n",
              "  font-size: smaller;\n",
              "  line-height: 1em;\n",
              "  font-family: monospace;\n",
              "  background-color: var(--sklearn-color-background);\n",
              "  border-radius: 1em;\n",
              "  height: 1em;\n",
              "  width: 1em;\n",
              "  text-decoration: none !important;\n",
              "  margin-left: 1ex;\n",
              "  /* unfitted */\n",
              "  border: var(--sklearn-color-unfitted-level-1) 1pt solid;\n",
              "  color: var(--sklearn-color-unfitted-level-1);\n",
              "}\n",
              "\n",
              ".sk-estimator-doc-link.fitted,\n",
              "a:link.sk-estimator-doc-link.fitted,\n",
              "a:visited.sk-estimator-doc-link.fitted {\n",
              "  /* fitted */\n",
              "  border: var(--sklearn-color-fitted-level-1) 1pt solid;\n",
              "  color: var(--sklearn-color-fitted-level-1);\n",
              "}\n",
              "\n",
              "/* On hover */\n",
              "div.sk-estimator:hover .sk-estimator-doc-link:hover,\n",
              ".sk-estimator-doc-link:hover,\n",
              "div.sk-label-container:hover .sk-estimator-doc-link:hover,\n",
              ".sk-estimator-doc-link:hover {\n",
              "  /* unfitted */\n",
              "  background-color: var(--sklearn-color-unfitted-level-3);\n",
              "  color: var(--sklearn-color-background);\n",
              "  text-decoration: none;\n",
              "}\n",
              "\n",
              "div.sk-estimator.fitted:hover .sk-estimator-doc-link.fitted:hover,\n",
              ".sk-estimator-doc-link.fitted:hover,\n",
              "div.sk-label-container:hover .sk-estimator-doc-link.fitted:hover,\n",
              ".sk-estimator-doc-link.fitted:hover {\n",
              "  /* fitted */\n",
              "  background-color: var(--sklearn-color-fitted-level-3);\n",
              "  color: var(--sklearn-color-background);\n",
              "  text-decoration: none;\n",
              "}\n",
              "\n",
              "/* Span, style for the box shown on hovering the info icon */\n",
              ".sk-estimator-doc-link span {\n",
              "  display: none;\n",
              "  z-index: 9999;\n",
              "  position: relative;\n",
              "  font-weight: normal;\n",
              "  right: .2ex;\n",
              "  padding: .5ex;\n",
              "  margin: .5ex;\n",
              "  width: min-content;\n",
              "  min-width: 20ex;\n",
              "  max-width: 50ex;\n",
              "  color: var(--sklearn-color-text);\n",
              "  box-shadow: 2pt 2pt 4pt #999;\n",
              "  /* unfitted */\n",
              "  background: var(--sklearn-color-unfitted-level-0);\n",
              "  border: .5pt solid var(--sklearn-color-unfitted-level-3);\n",
              "}\n",
              "\n",
              ".sk-estimator-doc-link.fitted span {\n",
              "  /* fitted */\n",
              "  background: var(--sklearn-color-fitted-level-0);\n",
              "  border: var(--sklearn-color-fitted-level-3);\n",
              "}\n",
              "\n",
              ".sk-estimator-doc-link:hover span {\n",
              "  display: block;\n",
              "}\n",
              "\n",
              "/* \"?\"-specific style due to the `<a>` HTML tag */\n",
              "\n",
              "#sk-container-id-2 a.estimator_doc_link {\n",
              "  float: right;\n",
              "  font-size: 1rem;\n",
              "  line-height: 1em;\n",
              "  font-family: monospace;\n",
              "  background-color: var(--sklearn-color-background);\n",
              "  border-radius: 1rem;\n",
              "  height: 1rem;\n",
              "  width: 1rem;\n",
              "  text-decoration: none;\n",
              "  /* unfitted */\n",
              "  color: var(--sklearn-color-unfitted-level-1);\n",
              "  border: var(--sklearn-color-unfitted-level-1) 1pt solid;\n",
              "}\n",
              "\n",
              "#sk-container-id-2 a.estimator_doc_link.fitted {\n",
              "  /* fitted */\n",
              "  border: var(--sklearn-color-fitted-level-1) 1pt solid;\n",
              "  color: var(--sklearn-color-fitted-level-1);\n",
              "}\n",
              "\n",
              "/* On hover */\n",
              "#sk-container-id-2 a.estimator_doc_link:hover {\n",
              "  /* unfitted */\n",
              "  background-color: var(--sklearn-color-unfitted-level-3);\n",
              "  color: var(--sklearn-color-background);\n",
              "  text-decoration: none;\n",
              "}\n",
              "\n",
              "#sk-container-id-2 a.estimator_doc_link.fitted:hover {\n",
              "  /* fitted */\n",
              "  background-color: var(--sklearn-color-fitted-level-3);\n",
              "}\n",
              "</style><div id=\"sk-container-id-2\" class=\"sk-top-container\"><div class=\"sk-text-repr-fallback\"><pre>RandomForestClassifier(random_state=42)</pre><b>In a Jupyter environment, please rerun this cell to show the HTML representation or trust the notebook. <br />On GitHub, the HTML representation is unable to render, please try loading this page with nbviewer.org.</b></div><div class=\"sk-container\" hidden><div class=\"sk-item\"><div class=\"sk-estimator fitted sk-toggleable\"><input class=\"sk-toggleable__control sk-hidden--visually\" id=\"sk-estimator-id-2\" type=\"checkbox\" checked><label for=\"sk-estimator-id-2\" class=\"sk-toggleable__label fitted sk-toggleable__label-arrow fitted\">&nbsp;&nbsp;RandomForestClassifier<a class=\"sk-estimator-doc-link fitted\" rel=\"noreferrer\" target=\"_blank\" href=\"https://scikit-learn.org/1.5/modules/generated/sklearn.ensemble.RandomForestClassifier.html\">?<span>Documentation for RandomForestClassifier</span></a><span class=\"sk-estimator-doc-link fitted\">i<span>Fitted</span></span></label><div class=\"sk-toggleable__content fitted\"><pre>RandomForestClassifier(random_state=42)</pre></div> </div></div></div></div>"
            ]
          },
          "metadata": {},
          "execution_count": 49
        }
      ],
      "source": [
        "# Создайте модель логистической регрессии и обучите её, используя метод fit.\n",
        "from sklearn.ensemble import RandomForestClassifier\n",
        "# Создание модели\n",
        "rf_classifier = RandomForestClassifier(n_estimators=100, random_state=42)\n",
        "\n",
        "# Обучение модели\n",
        "rf_classifier.fit(x_train, y_train)"
      ]
    },
    {
      "cell_type": "code",
      "execution_count": 50,
      "metadata": {
        "id": "11oLB-EIYeJM",
        "colab": {
          "base_uri": "https://localhost:8080/"
        },
        "outputId": "f5545e7d-d292-4526-ae42-5127124a715a"
      },
      "outputs": [
        {
          "output_type": "stream",
          "name": "stdout",
          "text": [
            "Точность модели: 0.93\n"
          ]
        }
      ],
      "source": [
        "# Импортируем необходимые библиотеки\n",
        "from sklearn.metrics import accuracy_score\n",
        "\n",
        "# Предсказания на тестовой выборке\n",
        "y_pred = rf_classifier.predict(x_test)\n",
        "\n",
        "# Оценка точности модели\n",
        "accuracy = accuracy_score(y_test, y_pred)\n",
        "print(f\"Точность модели: {accuracy:.2f}\")"
      ]
    },
    {
      "cell_type": "markdown",
      "metadata": {
        "id": "-dB0CfMGYeJO"
      },
      "source": [
        "### 1.2 Анализ качества модели"
      ]
    },
    {
      "cell_type": "code",
      "execution_count": 51,
      "metadata": {
        "id": "OXkT10pzYeJP"
      },
      "outputs": [],
      "source": [
        "# Допишите класс \"глупого классификатора\", что всегда предсказывает класс `0`.\n",
        "\n",
        "class DummyClassifier:\n",
        "    def __init__(self):\n",
        "        print('Hello, Александр Викторович, Рустам Александрович, Игорь Александрович!')\n",
        "\n",
        "    def predict(self, x):\n",
        "        # x - numpy массив размерности [N, dim]\n",
        "        # Должен возвращаться массив N предсказаний\n",
        "\n",
        "        # Получаем число строк в массиве x (это будет N)\n",
        "        N = x.shape[0]\n",
        "\n",
        "        # Создаём массив длины N, заполненный нулями,\n",
        "        # так как наш \"глупый классификатор\" всегда предсказывает класс 0\n",
        "        predictions = np.zeros((N,), dtype=int)\n",
        "        return predictions"
      ]
    },
    {
      "cell_type": "code",
      "execution_count": 52,
      "metadata": {
        "id": "IVpub9gAYeJP",
        "colab": {
          "base_uri": "https://localhost:8080/"
        },
        "outputId": "5ff62105-90a9-4948-93ac-4fcdc731ac23"
      },
      "outputs": [
        {
          "output_type": "stream",
          "name": "stdout",
          "text": [
            "Hello, Александр Викторович, Рустам Александрович, Игорь Александрович!\n",
            "Accuracy: 90.91%\n"
          ]
        }
      ],
      "source": [
        "# Оцените точность \"глупого классификатора\", объясните результат.\n",
        "model2 = DummyClassifier()\n",
        "y_pred_dum = model2.predict(x_test)\n",
        "accuracy = accuracy_score(y_test, y_pred_dum)\n",
        "print(f\"Accuracy: {accuracy * 100:.2f}%\")\n",
        "# Можно сравнить оценку точности \"глупого классификатора\" с определением доли класса '0' в y_test"
      ]
    },
    {
      "cell_type": "code",
      "execution_count": 53,
      "metadata": {
        "id": "lks9TyeFYeJQ",
        "colab": {
          "base_uri": "https://localhost:8080/"
        },
        "outputId": "8256fda7-8817-4e9c-8730-40d0deaf07ad"
      },
      "outputs": [
        {
          "output_type": "stream",
          "name": "stdout",
          "text": [
            "Precision: 1.0\n",
            "Recall: 0.0\n",
            "F1 Score: 0.0\n"
          ]
        }
      ],
      "source": [
        "# Используйте дополнительные метрики (f1-score, recall, precision) из пакета sklearn для анализа \"глупого классификатора\".\n",
        "from sklearn.metrics import f1_score, recall_score, precision_score\n",
        "\n",
        "# Вычисление значений метрик\n",
        "precision = precision_score(y_test, y_pred_dum, zero_division=1)\n",
        "recall = recall_score(y_test, y_pred_dum)\n",
        "f1 = f1_score(y_test, y_pred_dum)\n",
        "\n",
        "# Вывод результатов\n",
        "print(f'Precision: {precision}')\n",
        "print(f'Recall: {recall}')\n",
        "print(f'F1 Score: {f1}')"
      ]
    },
    {
      "cell_type": "code",
      "execution_count": 54,
      "metadata": {
        "id": "xLkAYU8KYeJR",
        "colab": {
          "base_uri": "https://localhost:8080/"
        },
        "outputId": "3dd84c43-b4d7-4a84-ba32-07ecc6152b63"
      },
      "outputs": [
        {
          "output_type": "stream",
          "name": "stdout",
          "text": [
            "Precision: 0.8571428571428571\n",
            "Recall: 0.3\n",
            "F1 Score: 0.4444444444444444\n"
          ]
        }
      ],
      "source": [
        "# Используя те же метрики, проанализируйте обученную вами модель логистической регрессии.\n",
        "# Вычисление значений метрик\n",
        "precision = precision_score(y_test, y_pred, zero_division=1)\n",
        "recall = recall_score(y_test, y_pred)\n",
        "f1 = f1_score(y_test, y_pred)\n",
        "\n",
        "# Вывод результатов\n",
        "print(f'Precision: {precision}')\n",
        "print(f'Recall: {recall}')\n",
        "print(f'F1 Score: {f1}')"
      ]
    },
    {
      "cell_type": "code",
      "execution_count": 38,
      "metadata": {
        "id": "bsTjabWwYeJR",
        "colab": {
          "base_uri": "https://localhost:8080/"
        },
        "collapsed": true,
        "outputId": "e202b2fe-fa85-4c91-d890-e0c45b6e2767"
      },
      "outputs": [
        {
          "output_type": "stream",
          "name": "stdout",
          "text": [
            "[[1]\n",
            " [0]\n",
            " [0]\n",
            " [0]\n",
            " [1]\n",
            " [1]\n",
            " [0]\n",
            " [0]\n",
            " [0]\n",
            " [0]\n",
            " [0]\n",
            " [0]\n",
            " [0]\n",
            " [0]\n",
            " [1]\n",
            " [0]\n",
            " [0]\n",
            " [1]\n",
            " [0]\n",
            " [0]\n",
            " [0]\n",
            " [0]\n",
            " [0]\n",
            " [0]\n",
            " [0]\n",
            " [1]\n",
            " [1]\n",
            " [0]\n",
            " [0]\n",
            " [0]\n",
            " [0]\n",
            " [0]\n",
            " [1]\n",
            " [0]\n",
            " [0]\n",
            " [0]\n",
            " [0]\n",
            " [0]\n",
            " [0]\n",
            " [0]\n",
            " [1]\n",
            " [1]\n",
            " [1]\n",
            " [0]\n",
            " [0]\n",
            " [1]\n",
            " [1]\n",
            " [1]\n",
            " [0]\n",
            " [0]\n",
            " [0]\n",
            " [0]\n",
            " [0]\n",
            " [0]\n",
            " [1]\n",
            " [0]\n",
            " [0]\n",
            " [0]\n",
            " [0]\n",
            " [0]\n",
            " [0]\n",
            " [0]\n",
            " [0]\n",
            " [0]\n",
            " [0]\n",
            " [0]\n",
            " [1]\n",
            " [1]\n",
            " [0]\n",
            " [0]\n",
            " [1]\n",
            " [0]\n",
            " [0]\n",
            " [0]\n",
            " [0]\n",
            " [0]\n",
            " [1]\n",
            " [0]\n",
            " [0]\n",
            " [0]\n",
            " [0]\n",
            " [1]\n",
            " [0]\n",
            " [0]\n",
            " [0]\n",
            " [1]\n",
            " [0]\n",
            " [0]\n",
            " [0]\n",
            " [0]\n",
            " [1]\n",
            " [0]\n",
            " [0]\n",
            " [0]\n",
            " [0]\n",
            " [0]\n",
            " [0]\n",
            " [0]\n",
            " [1]\n",
            " [0]]\n",
            "xxxxxxxxxxxxxxxx\n",
            "[1. 1. 0. 0. 1. 1. 1. 0. 0. 0. 0. 1. 0. 0. 1. 1. 0. 1. 0. 0. 0. 0. 0. 1.\n",
            " 0. 1. 1. 0. 0. 0. 1. 0. 1. 0. 1. 0. 0. 1. 0. 1. 1. 1. 1. 0. 0. 1. 1. 1.\n",
            " 0. 0. 0. 1. 0. 0. 1. 0. 0. 1. 0. 0. 1. 0. 0. 1. 1. 0. 1. 1. 0. 0. 1. 1.\n",
            " 1. 1. 0. 0. 1. 0. 1. 1. 0. 1. 0. 1. 0. 1. 1. 0. 0. 0. 1. 0. 0. 0. 0. 0.\n",
            " 0. 0. 1. 1.]\n"
          ]
        }
      ],
      "source": [
        "# Объясните результат, описав его комментариями в этой клетке.\n",
        "\n",
        "print(y_pred)\n",
        "print(\"xxxxxxxxxxxxxxxx\")\n",
        "print(y_test)\n",
        "\n",
        "\n",
        "#Метрика precision показывает, что с 85% точностью модель предсказала результатом 1\n",
        "#Метрика recall показывает что только 30% результата 1 были предсказанны верно\n",
        "\n"
      ]
    },
    {
      "cell_type": "markdown",
      "metadata": {
        "id": "I3pHSDhhYeJS"
      },
      "source": [
        "### 1.3 Анализ набора данных"
      ]
    },
    {
      "cell_type": "code",
      "execution_count": 39,
      "metadata": {
        "id": "JQLWOrOpYeJS",
        "colab": {
          "base_uri": "https://localhost:8080/"
        },
        "outputId": "8515a6d3-f4e5-48d0-ce0d-ed1e7fa7a346"
      },
      "outputs": [
        {
          "output_type": "stream",
          "name": "stdout",
          "text": [
            "Counter({1.0: 155, 0.0: 145})\n"
          ]
        }
      ],
      "source": [
        "# Посчитайте количество экземпляров данных для каждого класса.\n",
        "from collections import Counter\n",
        "class_counter = Counter(y_train)\n",
        "print(class_counter)"
      ]
    },
    {
      "cell_type": "code",
      "execution_count": 40,
      "metadata": {
        "id": "8imTj0ExYeJT"
      },
      "outputs": [],
      "source": [
        "# Предложите способ улучшения качества модели. Подсказка: добавление дубликатов в данные.\n",
        "# Указание: не изменяйте тестовую выборку.\n",
        "\n",
        "# Создаем дубликаты для редко встречающихся классов\n",
        "# Найдем наименее представленный класс\n",
        "counter = Counter(y_train)\n",
        "min_class = min(counter, key=counter.get)\n",
        "# Создаем дубликаты для наименее представленного класса\n",
        "x_minority = x_train[y_train == min_class]\n",
        "y_minority = y_train[y_train == min_class]\n",
        "\n",
        "# Объединяем оригинальные данные с новыми дубликатами\n",
        "x_train_update = np.concatenate([x_train, x_minority])\n",
        "y_train_update = np.concatenate([y_train, y_minority])\n",
        "\n",
        "while(min(counter, key=counter.get) == min_class):\n",
        "    x_train_update = np.concatenate([x_train_update, x_minority])\n",
        "    y_train_update = np.concatenate([y_train_update, y_minority])\n",
        "    counter = Counter(y_train_update)"
      ]
    },
    {
      "cell_type": "code",
      "execution_count": 41,
      "metadata": {
        "id": "wzjfhzYXYeJT",
        "colab": {
          "base_uri": "https://localhost:8080/"
        },
        "outputId": "80e9c3e4-9793-4afb-b5d5-75b1d3c20913"
      },
      "outputs": [
        {
          "output_type": "execute_result",
          "data": {
            "text/plain": [
              "<__main__.LogisticRegression at 0x7e252fb638e0>"
            ]
          },
          "metadata": {},
          "execution_count": 41
        }
      ],
      "source": [
        "# Создайте и обучите модель с использованием предложенных наработок.\n",
        "# Создаем модель логистической регрессии\n",
        "model4 = LogisticRegression()\n",
        "\n",
        "# Обучаем модель на обновленных данных\n",
        "model4.fit(x_train_update, y_train_update)"
      ]
    },
    {
      "cell_type": "code",
      "execution_count": 42,
      "metadata": {
        "id": "-eDUYYA7YeJU",
        "colab": {
          "base_uri": "https://localhost:8080/"
        },
        "outputId": "1d83fe6e-792e-4e0f-f0b7-86746fe74e3f"
      },
      "outputs": [
        {
          "output_type": "stream",
          "name": "stdout",
          "text": [
            "Precision: 1.0\n",
            "Recall: 0.4888888888888889\n",
            "F1 Score: 0.6567164179104478\n"
          ]
        }
      ],
      "source": [
        "# Оцените качество новой модели, используя метрики из пакета sklearn.metrics.\n",
        "# Указание: постарайтесь сбалансировать данные таким образом, чтобы новая модель была ощутимо лучше старой.\n",
        "y_update_pred = model4.predict(x_test)\n",
        "# Вычисление значений метрик\n",
        "precision = precision_score(y_test, y_update_pred, zero_division=1)\n",
        "recall = recall_score(y_test, y_update_pred)\n",
        "f1 = f1_score(y_test, y_update_pred)\n",
        "\n",
        "# Вывод результатов\n",
        "print(f'Precision: {precision}')\n",
        "print(f'Recall: {recall}')\n",
        "print(f'F1 Score: {f1}')"
      ]
    },
    {
      "cell_type": "markdown",
      "metadata": {
        "id": "M1rOw1HFYeJU"
      },
      "source": [
        "## 2. Применение логистической регрессии (нелинейные данные)"
      ]
    },
    {
      "cell_type": "code",
      "execution_count": 26,
      "metadata": {
        "id": "UwBZzjpKYeJU"
      },
      "outputs": [],
      "source": [
        "x_train, y_train, x_test, y_test = load_data('dataset2')"
      ]
    },
    {
      "cell_type": "code",
      "execution_count": 27,
      "metadata": {
        "id": "GSu77j7QYeJV",
        "colab": {
          "base_uri": "https://localhost:8080/"
        },
        "outputId": "7b64dfc1-83c5-489b-ba5b-576de85e69ac"
      },
      "outputs": [
        {
          "output_type": "execute_result",
          "data": {
            "text/plain": [
              "<__main__.LogisticRegression at 0x7e24f73aa320>"
            ]
          },
          "metadata": {},
          "execution_count": 27
        }
      ],
      "source": [
        "# Создайте и обучите модель но этом наборе данных.\n",
        "\n",
        "# Создаём модель логистической регрессии\n",
        "model = LogisticRegression()\n",
        "\n",
        "# Обучаем модель\n",
        "model.fit(x_train, y_train)\n"
      ]
    },
    {
      "cell_type": "code",
      "execution_count": 28,
      "metadata": {
        "id": "eQdeemmUYeJV",
        "colab": {
          "base_uri": "https://localhost:8080/"
        },
        "outputId": "144252f0-52e6-4f13-f10e-8cebb8da57a6"
      },
      "outputs": [
        {
          "output_type": "stream",
          "name": "stdout",
          "text": [
            "Accuracy: 57.00%\n",
            "Precision: 0.5147058823529411\n",
            "Recall: 0.7777777777777778\n",
            "F1 Score: 0.6194690265486725\n"
          ]
        }
      ],
      "source": [
        "# Проанализируйте качество модели.\n",
        "\n",
        "# Предсказание на тестовом наборе данных\n",
        "y_pred = model.predict(x_test)\n",
        "\n",
        "# Оценка точности модели\n",
        "accuracy = accuracy_score(y_test, y_pred)\n",
        "print(f\"Accuracy: {accuracy * 100:.2f}%\")\n",
        "\n",
        "# Вычисление значений метрик\n",
        "precision = precision_score(y_test, y_pred, zero_division=1)\n",
        "recall = recall_score(y_test, y_pred)\n",
        "f1 = f1_score(y_test, y_pred)\n",
        "\n",
        "# Вывод результатов\n",
        "print(f'Precision: {precision}')\n",
        "print(f'Recall: {recall}')\n",
        "print(f'F1 Score: {f1}')\n"
      ]
    },
    {
      "cell_type": "code",
      "execution_count": 29,
      "metadata": {
        "id": "MHJSi9gpYeJW",
        "colab": {
          "base_uri": "https://localhost:8080/",
          "height": 465
        },
        "outputId": "dde1ebe9-0227-4ce7-9503-bd11d4463bfc"
      },
      "outputs": [
        {
          "output_type": "execute_result",
          "data": {
            "text/plain": [
              "[<matplotlib.lines.Line2D at 0x7e24f5aa24a0>,\n",
              " <matplotlib.lines.Line2D at 0x7e24f5aa2470>]"
            ]
          },
          "metadata": {},
          "execution_count": 29
        },
        {
          "output_type": "display_data",
          "data": {
            "text/plain": [
              "<Figure size 640x480 with 1 Axes>"
            ],
            "image/png": "[encoded data removed]"
          },
          "metadata": {}
        }
      ],
      "source": [
        "# FEATURE ENGINEERING: попробуйте применить на исходных данных разные нелинейные функции (sin, tanh, ...).\n",
        "# Объедините трансформированные данные с исходными (важно: количество экземпляров в x_train не должно увеличиться).\n",
        "import matplotlib.pyplot as plt\n",
        "\n",
        "x_train_feat = x_train.copy()\n",
        "x_train_feat = np.power(abs(x_train_feat), 2)\n",
        "\n",
        "plt.plot(x_train_feat[y_train==0])\n",
        "plt.plot(x_train_feat[y_train==1])"
      ]
    },
    {
      "cell_type": "code",
      "execution_count": 30,
      "metadata": {
        "id": "iy4-kHmqYeJW",
        "colab": {
          "base_uri": "https://localhost:8080/"
        },
        "outputId": "0e9c6fbd-4d2c-43b3-b229-3327a5d0a317"
      },
      "outputs": [
        {
          "output_type": "execute_result",
          "data": {
            "text/plain": [
              "<__main__.LogisticRegression at 0x7e252fb61750>"
            ]
          },
          "metadata": {},
          "execution_count": 30
        }
      ],
      "source": [
        "# Создайте и обучите модель с использованием наработок.\n",
        "model3 = LogisticRegression()\n",
        "model3.fit(x_train_feat, y_train)\n"
      ]
    },
    {
      "cell_type": "code",
      "execution_count": 31,
      "metadata": {
        "id": "1ELfMXC1YeJW",
        "colab": {
          "base_uri": "https://localhost:8080/"
        },
        "outputId": "c1584cd3-41a9-4dd8-99bf-297c0f8d0204"
      },
      "outputs": [
        {
          "output_type": "stream",
          "name": "stdout",
          "text": [
            "Accuracy: 78.00%\n",
            "Precision: 1.0\n",
            "Recall: 0.5111111111111111\n",
            "F1 Score: 0.6764705882352942\n"
          ]
        }
      ],
      "source": [
        "# Оцените качество новой модели, используя метрики из пакета sklearn.metrics.\n",
        "# Указание: постарайтесь добиться точности в 100%!\n",
        "\n",
        "# Предсказание на тестовом наборе данных\n",
        "y_pred = model3.predict(x_test)\n",
        "\n",
        "# Оценка точности модели\n",
        "accuracy = accuracy_score(y_test, y_pred)\n",
        "print(f\"Accuracy: {accuracy * 100:.2f}%\")\n",
        "\n",
        "# Вычисление значений метрик\n",
        "precision = precision_score(y_test, y_pred, zero_division=1)\n",
        "recall = recall_score(y_test, y_pred)\n",
        "f1 = f1_score(y_test, y_pred)\n",
        "\n",
        "# Вывод результатов\n",
        "print(f'Precision: {precision}')\n",
        "print(f'Recall: {recall}')\n",
        "print(f'F1 Score: {f1}')\n"
      ]
    },
    {
      "cell_type": "markdown",
      "metadata": {
        "id": "DcbLB0y2YeJW"
      },
      "source": [
        "## 3. Доп. задания (любое на выбор, опционально)"
      ]
    },
    {
      "cell_type": "markdown",
      "metadata": {
        "id": "CToAEOqqYeJX"
      },
      "source": [
        "### 3.1 'Упрощение' логистической регрессии"
      ]
    },
    {
      "cell_type": "markdown",
      "metadata": {
        "id": "JDVthV05YeJX"
      },
      "source": [
        "Сложность: легко."
      ]
    },
    {
      "cell_type": "code",
      "execution_count": null,
      "metadata": {
        "id": "SI0Fi-htYeJX"
      },
      "outputs": [],
      "source": [
        "\"\"\"\n",
        "Модифицируйте класс логистической регрессии так, чтобы в нём не использовалась сигмоида.\n",
        "То есть вывод о предсказанном классе должен делаться на основе значений \"до сигмоиды\".\n",
        "Вспомогательная ссылка: https://en.wikipedia.org/wiki/Logit\n",
        "\"\"\"\n",
        "\n",
        "class LogisticRegression:\n",
        "    def __init__(self, dim=2):\n",
        "        self.w = np.random.randn(dim, 1) / np.sqrt(dim)\n",
        "        self.b = np.zeros((1,))\n",
        "\n",
        "    def predict(self, x, probs=False):\n",
        "        x = x.dot(self.w) + self.b\n",
        "        p = sigmoid(x)\n",
        "        if probs:\n",
        "            return p\n",
        "        return np.array(p > 0.5).astype('int32')\n",
        "\n",
        "    def fit(self, x, y, iters=1000, lr=0.01):\n",
        "        y = y.reshape(-1, 1)\n",
        "        for i in range(iters):\n",
        "            preds = self.predict(x, probs=True)\n",
        "            self.w -= lr * np.mean(x.T.dot(preds - y), axis=1, keepdims=True)\n",
        "            self.b -= lr * np.mean(preds - y, axis=0)"
      ]
    },
    {
      "cell_type": "code",
      "execution_count": null,
      "metadata": {
        "id": "s5XMLIepYeJY"
      },
      "outputs": [],
      "source": [
        "# Перенесите обученные веса модели из пункта 1.3 в новую модель с модифицированным кодом\n"
      ]
    },
    {
      "cell_type": "code",
      "execution_count": null,
      "metadata": {
        "id": "Eb-u9NFZYeJZ"
      },
      "outputs": [],
      "source": [
        "# Убедитесь, что предсказания модели с модифицированными кодом совпадают с предсказаниями\n",
        "# модели из пункта 1.3"
      ]
    },
    {
      "cell_type": "markdown",
      "metadata": {
        "id": "DCGb3RB7YeJZ"
      },
      "source": [
        "### 3.2 'Обобщение' логистической регрессии"
      ]
    },
    {
      "cell_type": "markdown",
      "metadata": {
        "id": "OhS8NydFYeJa"
      },
      "source": [
        "Напишите многоклассовый классификатор. Обучите его на наборе данных ниже."
      ]
    },
    {
      "cell_type": "code",
      "execution_count": null,
      "metadata": {
        "id": "4BDOWgZJYeJa"
      },
      "outputs": [],
      "source": [
        "x_train, y_train, x_test, y_test = load_data('dataset3')"
      ]
    },
    {
      "cell_type": "markdown",
      "metadata": {
        "id": "cO2o9bIKYeJb"
      },
      "source": [
        "<b>Ансамбль логистических регрессий.</b> Сложность: супергерой."
      ]
    },
    {
      "cell_type": "code",
      "execution_count": null,
      "metadata": {
        "id": "xhvU-RTNYeJc"
      },
      "outputs": [],
      "source": [
        "\"\"\"\n",
        "Напишите класс, что инкапсулирует в себе `C` логистических регрессий,\n",
        "где `C` - количество классов. i-ая логистическая регрессия производит\n",
        "бинарную классификацию вида: все остальные классы и i-ый класс.\n",
        "\"\"\"\n",
        "\n",
        "class MulticlassLogisticRegression:\n",
        "    def __init__(self, n_classes, dim):\n",
        "        pass\n",
        "\n",
        "    def predict(self, x):\n",
        "        # x - numpy массив размерности [N, dim]\n",
        "        # Возвращается массив целых чисел размерности [N],\n",
        "        # где i-ый элемент обозначает номер класса для\n",
        "        # i-го экземпляра данных в `x`.\n",
        "        pass\n",
        "\n",
        "    def fit(self, x, y):\n",
        "        pass"
      ]
    },
    {
      "cell_type": "code",
      "execution_count": null,
      "metadata": {
        "id": "fTJTt3-pYeJc"
      },
      "outputs": [],
      "source": [
        "# Создайте и обучите написанный классификатор. Оцените точность модели.\n"
      ]
    },
    {
      "cell_type": "markdown",
      "metadata": {
        "id": "BCYZCRXUYeJd"
      },
      "source": [
        "<b>Softmax классификатор.</b> Сложность: математический гений."
      ]
    },
    {
      "cell_type": "code",
      "execution_count": null,
      "metadata": {
        "id": "wHrtIdyZYeJn"
      },
      "outputs": [],
      "source": [
        "\"\"\"\n",
        "Напишите класс классификатора, основанного на функции Softmax.\n",
        "Алгоритм работы данного классификатора:\n",
        "x - вектор (экземпляр данных) размерности dim.\n",
        "W - матрица весов размерности [dim, n_classes].\n",
        "\n",
        "Ответ классификатора формируется как:\n",
        "logits = x * W - матричное умножение\n",
        "p = softmax(logits)\n",
        "class_id = argmax(p)\n",
        "\n",
        "Для данного классификатора требуется модифицировать алгоритм обучения в методе fit.\n",
        "\n",
        "Вспомогательные ресурсы:\n",
        "https://en.wikipedia.org/wiki/Softmax_function\n",
        "https://eli.thegreenplace.net/2016/the-softmax-function-and-its-derivative/\n",
        "\"\"\"\n",
        "\n",
        "class SoftmaxClassificator:\n",
        "    def __init__(self, n_classes, dim):\n",
        "        pass\n",
        "\n",
        "    def predict(self, x):\n",
        "        # x - numpy массив размерности [N, dim]\n",
        "        # Возвращается массив целых чисел размерности [N],\n",
        "        # где i-ый элемент обозначает номер класса для\n",
        "        # i-го экземпляра данных в `x`.\n",
        "        pass\n",
        "\n",
        "    def fit(self, x, y):\n",
        "        pass"
      ]
    },
    {
      "cell_type": "code",
      "execution_count": null,
      "metadata": {
        "id": "F8uynV7eYeJo"
      },
      "outputs": [],
      "source": [
        "# Создайте и обучите написанный классификатор. Оцените точность модели, посчитайте матрицу ошибок (выведите её с помощью matplotlib).\n"
      ]
    },
    {
      "cell_type": "code",
      "execution_count": null,
      "metadata": {
        "id": "LVPtFVZ7YeJp"
      },
      "outputs": [],
      "source": [
        "# Создайте и обучите написанный классификатор на наборе данных из задания 1 (опционально).\n",
        "# Оцените точность модели, посчитайте матрицу ошибок (выведите её с помощью matplotlib).\n"
      ]
    }
  ],
  "metadata": {
    "kernelspec": {
      "display_name": "Python 3 (ipykernel)",
      "language": "python",
      "name": "python3"
    },
    "language_info": {
      "codemirror_mode": {
        "name": "ipython",
        "version": 3
      },
      "file_extension": ".py",
      "mimetype": "text/x-python",
      "name": "python",
      "nbconvert_exporter": "python",
      "pygments_lexer": "ipython3",
      "version": "3.11.5"
    },
    "colab": {
      "provenance": [],
      "include_colab_link": true
    }
  },
  "nbformat": 4,
  "nbformat_minor": 0
}